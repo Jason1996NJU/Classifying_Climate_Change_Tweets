{
 "cells": [
  {
   "cell_type": "markdown",
   "metadata": {},
   "source": [
    "# **Classifying Climate Change Tweets**"
   ]
  },
  {
   "cell_type": "markdown",
   "metadata": {},
   "source": [
    "- Each tweet will be classified as either a \"believer\" tweet or \"denier\" tweet.\n",
    "- This will be done by training a classifier model on a subset of tweets with definitive \"believer\" or \"denier\" hashtags. \n",
    "- Once the model has been trained, it will be used to classify the entire set of tweets. See below:"
   ]
  },
  {
   "cell_type": "markdown",
   "metadata": {},
   "source": [
    "# Labeling Subset of Tweets"
   ]
  },
  {
   "cell_type": "code",
   "execution_count": 1,
   "metadata": {},
   "outputs": [],
   "source": [
    "import pickle\n",
    "import pandas as pd\n",
    "import numpy as np\n",
    "import re\n",
    "import emoji\n",
    "import string\n",
    "from collections import defaultdict\n",
    "from sklearn.model_selection import train_test_split\n",
    "\n",
    "import spacy\n",
    "from textblob import TextBlob\n",
    "from nltk.tokenize import word_tokenize\n",
    "from nltk.stem import SnowballStemmer\n",
    "\n",
    "from sklearn.preprocessing import StandardScaler\n",
    "from sklearn.feature_extraction import text\n",
    "from sklearn.feature_extraction.text import CountVectorizer\n",
    "from sklearn.feature_extraction.text import TfidfVectorizer\n",
    "\n",
    "from sklearn.model_selection import StratifiedKFold\n",
    "from sklearn.base import clone\n",
    "from sklearn.model_selection import cross_val_predict\n",
    "from sklearn.linear_model import LogisticRegression\n",
    "from sklearn.svm import SVC\n",
    "from sklearn.naive_bayes import MultinomialNB\n",
    "from sklearn.tree import DecisionTreeClassifier\n",
    "from sklearn.ensemble import RandomForestClassifier, AdaBoostClassifier, GradientBoostingClassifier\n",
    "from sklearn.neural_network import MLPClassifier\n",
    "from xgboost import XGBClassifier\n",
    "from sklearn.linear_model import SGDClassifier\n",
    "from sklearn.model_selection import GridSearchCV\n",
    "\n",
    "from imblearn.over_sampling import SMOTE\n",
    "from imblearn.over_sampling import ADASYN\n",
    "from imblearn.over_sampling import RandomOverSampler\n",
    "\n",
    "\n",
    "\n",
    "from sklearn.metrics import confusion_matrix\n",
    "from sklearn.metrics import accuracy_score, log_loss, precision_score, recall_score, precision_recall_curve, f1_score, fbeta_score, classification_report\n",
    "from sklearn.metrics import roc_auc_score, roc_curve\n",
    "from sklearn.metrics import fbeta_score, make_scorer\n",
    "import matplotlib.pyplot as plt\n",
    "import seaborn as sns\n",
    "# from yellowbrick.classifier import DiscriminationThreshold\n",
    "%matplotlib inline"
   ]
  },
  {
   "cell_type": "markdown",
   "metadata": {},
   "source": [
    "## Read in `tweets_full_df`"
   ]
  },
  {
   "cell_type": "markdown",
   "metadata": {},
   "source": [
    "- File is from \"Project_04_Data_All_Tweets\" notebook"
   ]
  },
  {
   "cell_type": "code",
   "execution_count": 2,
   "metadata": {},
   "outputs": [],
   "source": [
    "with open('Data/tweets_full2_df.pkl','rb') as read_file:\n",
    "    tweets_full_df = pickle.load(read_file)"
   ]
  },
  {
   "cell_type": "code",
   "execution_count": 3,
   "metadata": {},
   "outputs": [],
   "source": [
    "tweets_full_df = tweets_full_df.sort_values(by='created_at').reset_index(drop=True)"
   ]
  },
  {
   "cell_type": "code",
   "execution_count": 4,
   "metadata": {},
   "outputs": [
    {
     "data": {
      "text/html": [
       "<div>\n",
       "<style scoped>\n",
       "    .dataframe tbody tr th:only-of-type {\n",
       "        vertical-align: middle;\n",
       "    }\n",
       "\n",
       "    .dataframe tbody tr th {\n",
       "        vertical-align: top;\n",
       "    }\n",
       "\n",
       "    .dataframe thead th {\n",
       "        text-align: right;\n",
       "    }\n",
       "</style>\n",
       "<table border=\"1\" class=\"dataframe\">\n",
       "  <thead>\n",
       "    <tr style=\"text-align: right;\">\n",
       "      <th></th>\n",
       "      <th>created_at</th>\n",
       "      <th>favorite_count</th>\n",
       "      <th>full_text</th>\n",
       "      <th>geo</th>\n",
       "      <th>retweet_count</th>\n",
       "      <th>Hashtags_List</th>\n",
       "      <th>User_Name</th>\n",
       "      <th>User_Screen_Name</th>\n",
       "      <th>User_Status_Count</th>\n",
       "      <th>User_Followers_Count</th>\n",
       "      <th>User_Friends_Count</th>\n",
       "      <th>User_Verified_Status</th>\n",
       "      <th>User_Account_Start_Date</th>\n",
       "      <th>User_Years_Active</th>\n",
       "      <th>User_Location</th>\n",
       "      <th>Tweet_Location</th>\n",
       "      <th>Tweet_Location_Country</th>\n",
       "      <th>Tweet_Location_Country_Code</th>\n",
       "    </tr>\n",
       "  </thead>\n",
       "  <tbody>\n",
       "    <tr>\n",
       "      <th>0</th>\n",
       "      <td>2017-09-21</td>\n",
       "      <td>0</td>\n",
       "      <td>All #Hurricane victims should sue #Trump, #Pru...</td>\n",
       "      <td>NaN</td>\n",
       "      <td>0</td>\n",
       "      <td>[Hurricane, Trump, Pruitt, FossilFuel, Climate...</td>\n",
       "      <td>Soledad Haren</td>\n",
       "      <td>Soledad_Haren</td>\n",
       "      <td>11511</td>\n",
       "      <td>317</td>\n",
       "      <td>260</td>\n",
       "      <td>False</td>\n",
       "      <td>2008-11-16</td>\n",
       "      <td>8.8</td>\n",
       "      <td>New York, LA, Miami, Houston</td>\n",
       "      <td>NaN</td>\n",
       "      <td>NaN</td>\n",
       "      <td>NaN</td>\n",
       "    </tr>\n",
       "    <tr>\n",
       "      <th>1</th>\n",
       "      <td>2017-09-21</td>\n",
       "      <td>0</td>\n",
       "      <td>Liberals trying to stop #earthwindandfire in t...</td>\n",
       "      <td>NaN</td>\n",
       "      <td>0</td>\n",
       "      <td>[earthwindandfire, climatechange]</td>\n",
       "      <td>Keith</td>\n",
       "      <td>Stonevoodo</td>\n",
       "      <td>21634</td>\n",
       "      <td>429</td>\n",
       "      <td>439</td>\n",
       "      <td>False</td>\n",
       "      <td>2011-12-14</td>\n",
       "      <td>5.8</td>\n",
       "      <td>NaN</td>\n",
       "      <td>NaN</td>\n",
       "      <td>NaN</td>\n",
       "      <td>NaN</td>\n",
       "    </tr>\n",
       "    <tr>\n",
       "      <th>2</th>\n",
       "      <td>2017-09-21</td>\n",
       "      <td>0</td>\n",
       "      <td>@TwitterForGood Want to help the environment, ...</td>\n",
       "      <td>NaN</td>\n",
       "      <td>0</td>\n",
       "      <td>[]</td>\n",
       "      <td>Urban Offsets</td>\n",
       "      <td>Urban_Offsets</td>\n",
       "      <td>1138</td>\n",
       "      <td>379</td>\n",
       "      <td>1810</td>\n",
       "      <td>False</td>\n",
       "      <td>2011-11-17</td>\n",
       "      <td>5.8</td>\n",
       "      <td>Greensboro, NC</td>\n",
       "      <td>NaN</td>\n",
       "      <td>NaN</td>\n",
       "      <td>NaN</td>\n",
       "    </tr>\n",
       "    <tr>\n",
       "      <th>3</th>\n",
       "      <td>2017-09-21</td>\n",
       "      <td>0</td>\n",
       "      <td>Should be HUGE headlines. MSM: crickets https:...</td>\n",
       "      <td>NaN</td>\n",
       "      <td>0</td>\n",
       "      <td>[]</td>\n",
       "      <td>President❌Vader</td>\n",
       "      <td>POTUS_NotSure</td>\n",
       "      <td>79834</td>\n",
       "      <td>1164</td>\n",
       "      <td>742</td>\n",
       "      <td>False</td>\n",
       "      <td>2009-06-18</td>\n",
       "      <td>8.3</td>\n",
       "      <td>Death Star</td>\n",
       "      <td>NaN</td>\n",
       "      <td>NaN</td>\n",
       "      <td>NaN</td>\n",
       "    </tr>\n",
       "    <tr>\n",
       "      <th>4</th>\n",
       "      <td>2017-09-21</td>\n",
       "      <td>2</td>\n",
       "      <td>Now @ICRAF presents how #trees reconstruct #cl...</td>\n",
       "      <td>NaN</td>\n",
       "      <td>1</td>\n",
       "      <td>[trees, climatechange, rainfall, Africa, Fores...</td>\n",
       "      <td>Forests &amp; Water</td>\n",
       "      <td>FoWaNetwork</td>\n",
       "      <td>2562</td>\n",
       "      <td>1162</td>\n",
       "      <td>888</td>\n",
       "      <td>False</td>\n",
       "      <td>2015-09-07</td>\n",
       "      <td>2.0</td>\n",
       "      <td>NaN</td>\n",
       "      <td>NaN</td>\n",
       "      <td>NaN</td>\n",
       "      <td>NaN</td>\n",
       "    </tr>\n",
       "  </tbody>\n",
       "</table>\n",
       "</div>"
      ],
      "text/plain": [
       "  created_at  favorite_count  \\\n",
       "0 2017-09-21               0   \n",
       "1 2017-09-21               0   \n",
       "2 2017-09-21               0   \n",
       "3 2017-09-21               0   \n",
       "4 2017-09-21               2   \n",
       "\n",
       "                                           full_text  geo  retweet_count  \\\n",
       "0  All #Hurricane victims should sue #Trump, #Pru...  NaN              0   \n",
       "1  Liberals trying to stop #earthwindandfire in t...  NaN              0   \n",
       "2  @TwitterForGood Want to help the environment, ...  NaN              0   \n",
       "3  Should be HUGE headlines. MSM: crickets https:...  NaN              0   \n",
       "4  Now @ICRAF presents how #trees reconstruct #cl...  NaN              1   \n",
       "\n",
       "                                       Hashtags_List        User_Name  \\\n",
       "0  [Hurricane, Trump, Pruitt, FossilFuel, Climate...    Soledad Haren   \n",
       "1                  [earthwindandfire, climatechange]            Keith   \n",
       "2                                                 []    Urban Offsets   \n",
       "3                                                 []  President❌Vader   \n",
       "4  [trees, climatechange, rainfall, Africa, Fores...  Forests & Water   \n",
       "\n",
       "  User_Screen_Name  User_Status_Count  User_Followers_Count  \\\n",
       "0    Soledad_Haren              11511                   317   \n",
       "1       Stonevoodo              21634                   429   \n",
       "2    Urban_Offsets               1138                   379   \n",
       "3    POTUS_NotSure              79834                  1164   \n",
       "4      FoWaNetwork               2562                  1162   \n",
       "\n",
       "   User_Friends_Count  User_Verified_Status User_Account_Start_Date  \\\n",
       "0                 260                 False              2008-11-16   \n",
       "1                 439                 False              2011-12-14   \n",
       "2                1810                 False              2011-11-17   \n",
       "3                 742                 False              2009-06-18   \n",
       "4                 888                 False              2015-09-07   \n",
       "\n",
       "   User_Years_Active                 User_Location Tweet_Location  \\\n",
       "0                8.8  New York, LA, Miami, Houston            NaN   \n",
       "1                5.8                           NaN            NaN   \n",
       "2                5.8                Greensboro, NC            NaN   \n",
       "3                8.3                    Death Star            NaN   \n",
       "4                2.0                           NaN            NaN   \n",
       "\n",
       "  Tweet_Location_Country Tweet_Location_Country_Code  \n",
       "0                    NaN                         NaN  \n",
       "1                    NaN                         NaN  \n",
       "2                    NaN                         NaN  \n",
       "3                    NaN                         NaN  \n",
       "4                    NaN                         NaN  "
      ]
     },
     "execution_count": 4,
     "metadata": {},
     "output_type": "execute_result"
    }
   ],
   "source": [
    "tweets_full_df.head(5)"
   ]
  },
  {
   "cell_type": "markdown",
   "metadata": {},
   "source": [
    "## Find definitive \"believer\" and \"denier\" hashtags"
   ]
  },
  {
   "cell_type": "markdown",
   "metadata": {},
   "source": [
    "The hashtags below will be used as the definitive hashtags. The counts for these across the entire dataset can be found below in the `definitive_hashtags` dictionary.  There are many more believer tweets based on these hashtags.\n",
    "- **Believer Hashtags**\n",
    "    - #climatechangeisreal\n",
    "    - #actonclimate\n",
    "    - #extinctionrebellion\n",
    "    - #climateemergency\n",
    "    - #climateactionnow\n",
    "- **Denier Hashtags**\n",
    "    - #climatechangeisfalse\n",
    "    - #climatechangenotreal\n",
    "    - #climatechangehoax\n",
    "    - #globalwarminghoax\n",
    "    - #tcot\n",
    "    - #ccot\n",
    "    - #tlot\n",
    "    - #pjnet\n",
    "    - #rednationrising\n",
    "    - #votered\n",
    "    - #libtard\n",
    "    - #libtards"
   ]
  },
  {
   "cell_type": "code",
   "execution_count": 5,
   "metadata": {},
   "outputs": [],
   "source": [
    "# Remove capitalization from hashtags\n",
    "\n",
    "hashtag_lower_pre = []\n",
    "hashtag_collapse = [] # complete list of hashtags\n",
    "hashtags_lower = [] # list of lists of hashtags for each tweet\n",
    "\n",
    "for index, rows in tweets_full_df['Hashtags_List'].iteritems():\n",
    "    hashtag_lower_pre = []\n",
    "    for i in rows:\n",
    "        i = i.lower()\n",
    "        hashtag_collapse.append(i)\n",
    "        hashtag_lower_pre.append(i)\n",
    "    hashtags_lower.append(hashtag_lower_pre)"
   ]
  },
  {
   "cell_type": "code",
   "execution_count": 6,
   "metadata": {},
   "outputs": [],
   "source": [
    "tweets_full_df['Hashtags_List'] = hashtags_lower"
   ]
  },
  {
   "cell_type": "code",
   "execution_count": 7,
   "metadata": {},
   "outputs": [],
   "source": [
    "subtweets_dict = defaultdict(list)\n",
    "subtweets_df = tweets_full_df[['full_text', 'Hashtags_List']]"
   ]
  },
  {
   "cell_type": "code",
   "execution_count": 8,
   "metadata": {},
   "outputs": [],
   "source": [
    "# Manual check for how definitive these hashtags are:\n",
    "\n",
    "# for index, rows in subtweets_df.iterrows():\n",
    "#     if 'liberalismisamentaldisorder' in rows['Hashtags_List']:\n",
    "#         subtweets_dict['liberalismisamentaldisorder'].append(rows['full_text'])\n",
    "#     elif 'junkscience' in rows['Hashtags_List']:\n",
    "#         subtweets_dict['junkscience'].append(rows['full_text'])\n",
    "#     elif 'climatehoax' in rows['Hashtags_List']:\n",
    "#         subtweets_dict['climatehoax'].append(rows['full_text'])\n",
    "#     elif 'coalisgood' in rows['Hashtags_List']:\n",
    "#         subtweets_dict['coalisgood'].append(rows['full_text'])\n",
    "#     elif 'democratshateamerica' in rows['Hashtags_List']:\n",
    "#         subtweets_dict['democratshateamerica'].append(rows['full_text'])\n"
   ]
  },
  {
   "cell_type": "code",
   "execution_count": 9,
   "metadata": {},
   "outputs": [],
   "source": [
    "# subtweets_dict['junkscience']"
   ]
  },
  {
   "cell_type": "code",
   "execution_count": 10,
   "metadata": {},
   "outputs": [],
   "source": [
    "# Look at count of these hashtags in the set of tweets:\n",
    "\n",
    "definitive_hashtags = {'climatechangeisreal': [],\n",
    "                       'actonclimate': [],\n",
    "                       'extinctionrebellion': [],\n",
    "                       'climateemergency': [],\n",
    "                       'climateactionnow': [],\n",
    "#                        'uniteblue': [],\n",
    "                       'climatechangeisfalse': [], \n",
    "                       'climatechangenotreal': [], \n",
    "#                        'climatehoax': [],\n",
    "                       'climatechangehoax': [], \n",
    "                       'globalwarminghoax': [],\n",
    "#                        'thereisnoclimatechange': [],\n",
    "#                        'liberalismisamentaldisorder': [],\n",
    "#                        'junkscience': [],\n",
    "                       'tcot': [],\n",
    "                       'ccot': [],\n",
    "                       'tlot': [],\n",
    "                       'pjnet': [],\n",
    "                       'rednationrising': [],\n",
    "#                        'maga': [],\n",
    "#                        'coalisgood': [],\n",
    "#                        'democratshateamerica': [],\n",
    "                       'votered': [],\n",
    "                       'libtard': [],\n",
    "                       'libtards': []\n",
    "                      }"
   ]
  },
  {
   "cell_type": "code",
   "execution_count": 11,
   "metadata": {},
   "outputs": [],
   "source": [
    "hashtag_series = pd.Series(hashtag_collapse)\n",
    "hashtag_count = hashtag_series.value_counts()"
   ]
  },
  {
   "cell_type": "code",
   "execution_count": 12,
   "metadata": {},
   "outputs": [],
   "source": [
    "for keys, values in definitive_hashtags.items():\n",
    "    definitive_hashtags[keys] = hashtag_count[keys]"
   ]
  },
  {
   "cell_type": "code",
   "execution_count": 13,
   "metadata": {},
   "outputs": [
    {
     "data": {
      "text/plain": [
       "{'climatechangeisreal': 38923,\n",
       " 'actonclimate': 57411,\n",
       " 'extinctionrebellion': 14074,\n",
       " 'climateemergency': 13739,\n",
       " 'climateactionnow': 8390,\n",
       " 'climatechangeisfalse': 3,\n",
       " 'climatechangenotreal': 2,\n",
       " 'climatechangehoax': 2358,\n",
       " 'globalwarminghoax': 973,\n",
       " 'tcot': 4672,\n",
       " 'ccot': 604,\n",
       " 'tlot': 1162,\n",
       " 'pjnet': 622,\n",
       " 'rednationrising': 45,\n",
       " 'votered': 9,\n",
       " 'libtard': 127,\n",
       " 'libtards': 152}"
      ]
     },
     "execution_count": 13,
     "metadata": {},
     "output_type": "execute_result"
    }
   ],
   "source": [
    "definitive_hashtags"
   ]
  },
  {
   "cell_type": "markdown",
   "metadata": {},
   "source": [
    "## Label tweets as \"believer\" or \"denier\" based on hashtags above.\n",
    "- \"0\" indicates believer tweet\n",
    "- \"1\" indicates denier tweet"
   ]
  },
  {
   "cell_type": "code",
   "execution_count": 14,
   "metadata": {},
   "outputs": [],
   "source": [
    "# believe_deny_list = []\n",
    "\n",
    "# for index, rows in tweets_full_df['Hashtags_List'].iteritems():\n",
    "#     for tag in list(definitive_hashtags):\n",
    "#         if tag in list(definitive_hashtags)[:5]:\n",
    "#             if tag in rows:\n",
    "#                 believe_deny_list.append(0)\n",
    "#                 continue\n",
    "#             else:\n",
    "#                 believe_deny_list.append(np.nan)\n",
    "#                 continue\n",
    "#         elif tag in list(definitive_hashtags)[5:]:\n",
    "#             if tag in rows:\n",
    "#                 believe_deny_list.append(1)\n",
    "#                 continue\n",
    "#             else:\n",
    "#                 believe_deny_list.append(np.nan)\n",
    "#                 continue"
   ]
  },
  {
   "cell_type": "code",
   "execution_count": 15,
   "metadata": {},
   "outputs": [],
   "source": [
    "believe_deny_list = []\n",
    "\n",
    "for index, rows in tweets_full_df['Hashtags_List'].iteritems():\n",
    "    if 'climatechangeisfalse' in rows:\n",
    "        believe_deny_list.append(1)\n",
    "    elif 'climatechangenotreal' in rows:\n",
    "        believe_deny_list.append(1)\n",
    "    elif 'climatechangehoax' in rows:\n",
    "        believe_deny_list.append(1)\n",
    "    elif 'globalwarminghoax' in rows:\n",
    "        believe_deny_list.append(1)\n",
    "    elif 'tcot' in rows:\n",
    "        believe_deny_list.append(1)\n",
    "    elif 'ccot' in rows:\n",
    "        believe_deny_list.append(1)\n",
    "    elif 'tlot' in rows:\n",
    "        believe_deny_list.append(1)\n",
    "    elif 'pjnet' in rows:\n",
    "        believe_deny_list.append(1)\n",
    "    elif 'rednationrising' in rows:\n",
    "        believe_deny_list.append(1)\n",
    "    elif 'votered' in rows:\n",
    "        believe_deny_list.append(1)\n",
    "    elif 'libtard' in rows:\n",
    "        believe_deny_list.append(1)\n",
    "    elif 'libtards' in rows:\n",
    "        believe_deny_list.append(1)\n",
    "    elif 'climatechangeisreal' in rows:\n",
    "        believe_deny_list.append(0)\n",
    "    elif 'actonclimate' in rows:\n",
    "        believe_deny_list.append(0)\n",
    "    elif 'extinctionrebellion' in rows:\n",
    "        believe_deny_list.append(0)\n",
    "    elif 'climateemergency' in rows:\n",
    "        believe_deny_list.append(0)\n",
    "    elif 'climateactionnow' in rows:\n",
    "        believe_deny_list.append(0)\n",
    "    else:\n",
    "        believe_deny_list.append(np.nan)"
   ]
  },
  {
   "cell_type": "code",
   "execution_count": 16,
   "metadata": {},
   "outputs": [
    {
     "data": {
      "text/plain": [
       "4225416"
      ]
     },
     "execution_count": 16,
     "metadata": {},
     "output_type": "execute_result"
    }
   ],
   "source": [
    "len(believe_deny_list)"
   ]
  },
  {
   "cell_type": "code",
   "execution_count": 17,
   "metadata": {},
   "outputs": [],
   "source": [
    "tweets_full_df.insert(2, column='Believer_or_Denier', value = believe_deny_list)"
   ]
  },
  {
   "cell_type": "code",
   "execution_count": 18,
   "metadata": {},
   "outputs": [
    {
     "data": {
      "text/plain": [
       "0.0    124471\n",
       "1.0      8451\n",
       "Name: Believer_or_Denier, dtype: int64"
      ]
     },
     "execution_count": 18,
     "metadata": {},
     "output_type": "execute_result"
    }
   ],
   "source": [
    "tweets_full_df['Believer_or_Denier'].value_counts()"
   ]
  },
  {
   "cell_type": "markdown",
   "metadata": {},
   "source": [
    "**Of the labeled subset of tweets, 94% are believer tweets and 6% are denier tweets.**"
   ]
  },
  {
   "cell_type": "markdown",
   "metadata": {},
   "source": [
    "___"
   ]
  },
  {
   "cell_type": "markdown",
   "metadata": {},
   "source": [
    "**Text Preprocessing (NOT USED)**"
   ]
  },
  {
   "cell_type": "markdown",
   "metadata": {},
   "source": [
    "- *Tokenize tweets, i.e. split the raw text into the individual words*\n",
    "- *Perform stemming so that words are cut down to their base form*\n",
    "    - *e.g. makes meaning of laugh, laughs, laughing all the same*\n",
    "    - *Reduces complexity by reducing number of unique words*\n",
    "    - *SnowballStemmer was used because it's considered an improvement on PorterStemmer, but is still less aggressive than LancasterStemmer*"
   ]
  },
  {
   "cell_type": "code",
   "execution_count": 19,
   "metadata": {},
   "outputs": [],
   "source": [
    "# stemmer = SnowballStemmer(\"english\")\n",
    "\n",
    "# processed_tweets_list = []\n",
    "\n",
    "# for index, rows in tweets_clean_df['full_text'].iteritems():\n",
    "#     token_rows = word_tokenize(rows)    \\\n",
    "# #            .correct() # tokenize and apply spell check\n",
    "#     stem_tokens = ''\n",
    "#     for word in token_rows: # stemming\n",
    "#         stem_tokens = stem_tokens + stemmer.stem(word) + ' '\n",
    "#     processed_tweets_list.append(stem_tokens)"
   ]
  },
  {
   "cell_type": "code",
   "execution_count": 20,
   "metadata": {},
   "outputs": [],
   "source": [
    "# tweets_clean_df.insert(4, column='tokenized_text', value = processed_tweets_list)"
   ]
  },
  {
   "cell_type": "markdown",
   "metadata": {},
   "source": [
    "**Save Updated File as Pickle File**"
   ]
  },
  {
   "cell_type": "code",
   "execution_count": 21,
   "metadata": {},
   "outputs": [],
   "source": [
    "# with open('tweets_clean2_df.pkl', 'wb') as to_write:\n",
    "#     pickle.dump(tweets_clean_df, to_write)"
   ]
  },
  {
   "cell_type": "code",
   "execution_count": 22,
   "metadata": {},
   "outputs": [],
   "source": [
    "# with open('Data/tweets_clean2_df.pkl','rb') as read_file:\n",
    "#     tweets_clean_df = pickle.load(read_file)"
   ]
  },
  {
   "cell_type": "markdown",
   "metadata": {},
   "source": [
    "___"
   ]
  },
  {
   "cell_type": "markdown",
   "metadata": {},
   "source": [
    "# Build Classifier Model"
   ]
  },
  {
   "cell_type": "markdown",
   "metadata": {},
   "source": [
    "- First, extract target variable and features (tweet text) from `tweets_full_df`\n",
    "- Split full set into training and test sets\n",
    "- Use CountVectorizer and TF-IDF to evaluate document similarity, i.e. find which tweets are similar and what similarities they share. They will output sparse matrix.\n",
    "    - create and implement custom preprocessor\n",
    "        - Remove the following characteristics from each tweet:\n",
    "            - line breaks\n",
    "            - URL's\n",
    "            - numbers\n",
    "            - capital letters\n",
    "            - punctuation\n",
    "    - create and implement custom tokenizer\n",
    "        - splits tweets into individual words\n",
    "        - lemmatizes words, i.e. cuts each word down to its base form\n",
    "            - e.g. makes meaning of laugh, laughs, laughing all the same\n",
    "            - Reduces complexity by reducing number of unique words\n",
    "    - hashtags will need to be added as stop words\n",
    "        - including them in the text could introduce data leakage\n",
    "- Then, run the sparse matrix through a pipeline of different baseline models and evaluate which model types show the most promise based on precision, recall, and F1 score performance metrics.\n",
    "- Perform further evaluation with confusion matrix, ROC curve, and precision/recall curve"
   ]
  },
  {
   "cell_type": "markdown",
   "metadata": {},
   "source": [
    "## Create `classified_df`, split into training and test sets\n",
    "- Composed of target (Believer_or_Denier classification) and feature (full_text)"
   ]
  },
  {
   "cell_type": "code",
   "execution_count": 23,
   "metadata": {},
   "outputs": [],
   "source": [
    "classified_df = tweets_full_df[['Believer_or_Denier', 'full_text']]"
   ]
  },
  {
   "cell_type": "code",
   "execution_count": 24,
   "metadata": {},
   "outputs": [],
   "source": [
    "classified_df = classified_df.dropna().reset_index(drop=True)"
   ]
  },
  {
   "cell_type": "code",
   "execution_count": 25,
   "metadata": {},
   "outputs": [
    {
     "data": {
      "text/html": [
       "<div>\n",
       "<style scoped>\n",
       "    .dataframe tbody tr th:only-of-type {\n",
       "        vertical-align: middle;\n",
       "    }\n",
       "\n",
       "    .dataframe tbody tr th {\n",
       "        vertical-align: top;\n",
       "    }\n",
       "\n",
       "    .dataframe thead th {\n",
       "        text-align: right;\n",
       "    }\n",
       "</style>\n",
       "<table border=\"1\" class=\"dataframe\">\n",
       "  <thead>\n",
       "    <tr style=\"text-align: right;\">\n",
       "      <th></th>\n",
       "      <th>Believer_or_Denier</th>\n",
       "      <th>full_text</th>\n",
       "    </tr>\n",
       "  </thead>\n",
       "  <tbody>\n",
       "    <tr>\n",
       "      <th>132912</th>\n",
       "      <td>0.0</td>\n",
       "      <td>@MikeHudema: 'Companies are now harnessing the...</td>\n",
       "    </tr>\n",
       "    <tr>\n",
       "      <th>132913</th>\n",
       "      <td>0.0</td>\n",
       "      <td>Climate crisis it is, from now on.....#Climate...</td>\n",
       "    </tr>\n",
       "    <tr>\n",
       "      <th>132914</th>\n",
       "      <td>0.0</td>\n",
       "      <td>GretaThunberg: RT GretaThunberg: Great news!! ...</td>\n",
       "    </tr>\n",
       "    <tr>\n",
       "      <th>132915</th>\n",
       "      <td>0.0</td>\n",
       "      <td>RT GretaThunberg: RT GretaThunberg: Great news...</td>\n",
       "    </tr>\n",
       "    <tr>\n",
       "      <th>132916</th>\n",
       "      <td>0.0</td>\n",
       "      <td>\"I used to think that top environmental proble...</td>\n",
       "    </tr>\n",
       "    <tr>\n",
       "      <th>132917</th>\n",
       "      <td>0.0</td>\n",
       "      <td>The media are complacent while the world burns...</td>\n",
       "    </tr>\n",
       "    <tr>\n",
       "      <th>132918</th>\n",
       "      <td>0.0</td>\n",
       "      <td>The time to act is now. The costs of inaction ...</td>\n",
       "    </tr>\n",
       "    <tr>\n",
       "      <th>132919</th>\n",
       "      <td>0.0</td>\n",
       "      <td>Write emails, start boycotting, divest in your...</td>\n",
       "    </tr>\n",
       "    <tr>\n",
       "      <th>132920</th>\n",
       "      <td>0.0</td>\n",
       "      <td>A change of climate in the media? #ClimateChan...</td>\n",
       "    </tr>\n",
       "    <tr>\n",
       "      <th>132921</th>\n",
       "      <td>1.0</td>\n",
       "      <td>@EcoSenseNow This is the environmental action ...</td>\n",
       "    </tr>\n",
       "  </tbody>\n",
       "</table>\n",
       "</div>"
      ],
      "text/plain": [
       "        Believer_or_Denier                                          full_text\n",
       "132912                 0.0  @MikeHudema: 'Companies are now harnessing the...\n",
       "132913                 0.0  Climate crisis it is, from now on.....#Climate...\n",
       "132914                 0.0  GretaThunberg: RT GretaThunberg: Great news!! ...\n",
       "132915                 0.0  RT GretaThunberg: RT GretaThunberg: Great news...\n",
       "132916                 0.0  \"I used to think that top environmental proble...\n",
       "132917                 0.0  The media are complacent while the world burns...\n",
       "132918                 0.0  The time to act is now. The costs of inaction ...\n",
       "132919                 0.0  Write emails, start boycotting, divest in your...\n",
       "132920                 0.0  A change of climate in the media? #ClimateChan...\n",
       "132921                 1.0  @EcoSenseNow This is the environmental action ..."
      ]
     },
     "execution_count": 25,
     "metadata": {},
     "output_type": "execute_result"
    }
   ],
   "source": [
    "classified_df.tail(10)"
   ]
  },
  {
   "cell_type": "code",
   "execution_count": 26,
   "metadata": {},
   "outputs": [],
   "source": [
    "# X = features, y = target\n",
    "\n",
    "X = classified_df.full_text\n",
    "y = classified_df.Believer_or_Denier"
   ]
  },
  {
   "cell_type": "code",
   "execution_count": 27,
   "metadata": {},
   "outputs": [],
   "source": [
    "# stratify so percentage split remains 94%/6%\n",
    "\n",
    "X_train, X_test, y_train, y_test = train_test_split(X, y, test_size=0.2, stratify=y, random_state=42)"
   ]
  },
  {
   "cell_type": "markdown",
   "metadata": {},
   "source": [
    "## Create custom preprocessor and tokenizer\n",
    "- These will be used as hyperparameters when running `CountVectorizer` and `TfidfVectorizer`"
   ]
  },
  {
   "cell_type": "code",
   "execution_count": 28,
   "metadata": {},
   "outputs": [],
   "source": [
    "def tweet_preprocessor(tweet):\n",
    "\n",
    "    '''\n",
    "    Takes in tweet and cleans it by removing line breaks,\n",
    "    URL's, emojis, numbers, capital letters, and punctuation.\n",
    "    '''\n",
    "\n",
    "    tweet = tweet.replace('\\n', ' ') # remove line breaks\n",
    "    tweet = re.sub(r\"\\bhttps://t.co/\\w+\", '', tweet) # remove URL's\n",
    "    tweet = re.sub('\\w*\\d\\w*', ' ', tweet) # remove numbers\n",
    "    tweet = re.sub('[%s]' % re.escape(string.punctuation), ' ', tweet.lower()) # remove capital letters and punctuation\n",
    "    \n",
    "    return tweet"
   ]
  },
  {
   "cell_type": "code",
   "execution_count": 29,
   "metadata": {},
   "outputs": [],
   "source": [
    "# create a spaCy tokenizer\n",
    "spacy.load('en')\n",
    "lemmatizer = spacy.lang.en.English()\n",
    "\n",
    "def tweet_tokenizer(doc):\n",
    "    \n",
    "    '''\n",
    "    Takes in tweet, tokenizes words, then lemmatizes tokens\n",
    "    '''\n",
    "    \n",
    "    tokens = lemmatizer(doc)\n",
    "    return [token.lemma_ for token in tokens]"
   ]
  },
  {
   "cell_type": "markdown",
   "metadata": {},
   "source": [
    "## Create list of stop words to be added\n",
    "- Another hyperparameter that will be used when running `CountVectorizer` and `TfidfVectorizer`"
   ]
  },
  {
   "cell_type": "code",
   "execution_count": 30,
   "metadata": {},
   "outputs": [],
   "source": [
    "# add hashtags as stop words\n",
    "\n",
    "add_stop_words = list(definitive_hashtags)"
   ]
  },
  {
   "cell_type": "code",
   "execution_count": 31,
   "metadata": {},
   "outputs": [],
   "source": [
    "new_stop_words = text.ENGLISH_STOP_WORDS.union(add_stop_words)"
   ]
  },
  {
   "cell_type": "markdown",
   "metadata": {},
   "source": [
    "## Vectorizer and Model Pipeline"
   ]
  },
  {
   "cell_type": "markdown",
   "metadata": {},
   "source": [
    "We want to try out a number of different options. To compile them all and easily view the results, the different vectorizers and models will be run through a pipeline. The following vectorizers will be used (with a couple different variations on the hyperparameters):\n",
    "- **CountVectorizer**\n",
    "- **TfidfVectorizer**\n",
    "\n",
    "And the following models will be used (these are baseline models; hyperparameters will be tuned later on):\n",
    "- **Logistic Regression**\n",
    "- **Naive Bayes**\n",
    "- **Linear SVM**\n",
    "- **Decision Trees**\n",
    "- **XGBoost**"
   ]
  },
  {
   "cell_type": "markdown",
   "metadata": {},
   "source": [
    "### Performance Metric Definitions"
   ]
  },
  {
   "cell_type": "markdown",
   "metadata": {},
   "source": [
    "Precision, Recall, and F1 score will be looked at to evaluate our results. See below for an outline of the possible outcomes, and what different results mean for the business case:"
   ]
  },
  {
   "cell_type": "markdown",
   "metadata": {},
   "source": [
    "#### Possible Outcomes"
   ]
  },
  {
   "cell_type": "markdown",
   "metadata": {},
   "source": [
    "- **True Positive**: Predict user is a climate change denier, and they are a denier\n",
    "- **False Positive (Type I Error)**: Predict user is a climate change denier, but they are a believer\n",
    "- **True Negative**: Predict user is a climate change believer, and they are a believer\n",
    "- **False Negative (Type II Error)**: Predict user is a climate change believer, but they are a denier"
   ]
  },
  {
   "cell_type": "markdown",
   "metadata": {},
   "source": [
    "#### Metric Analysis"
   ]
  },
  {
   "cell_type": "markdown",
   "metadata": {},
   "source": [
    "- **High Recall**: Most deniers were correctly predicted\n",
    "    - No concern for number of users who were incorrectly predicted as deniers\n",
    "- **High Precision**: Among the predictions of deniers, most predictions are correct\n",
    "    - No concern for number of missed deniers"
   ]
  },
  {
   "cell_type": "markdown",
   "metadata": {},
   "source": [
    "### Pipeline"
   ]
  },
  {
   "cell_type": "code",
   "execution_count": 32,
   "metadata": {},
   "outputs": [],
   "source": [
    "class_results_dict = defaultdict(list)"
   ]
  },
  {
   "cell_type": "code",
   "execution_count": 33,
   "metadata": {},
   "outputs": [],
   "source": [
    "vectorizer_dict = {'CV_1': CountVectorizer(max_df = 0.8, min_df = 3, preprocessor=tweet_preprocessor, tokenizer=tweet_tokenizer, stop_words=new_stop_words),\n",
    "                   'CV_2': CountVectorizer(ngram_range=(1,3), max_df = 0.8, min_df = 3, preprocessor=tweet_preprocessor, tokenizer=tweet_tokenizer, stop_words=new_stop_words),\n",
    "                   'CV_3': CountVectorizer(ngram_range=(2,3), max_df = 0.8, min_df = 3, preprocessor=tweet_preprocessor, tokenizer=tweet_tokenizer, stop_words=new_stop_words),\n",
    "                   'TF_1': TfidfVectorizer(max_df = 0.8, min_df = 3, preprocessor=tweet_preprocessor, tokenizer=tweet_tokenizer, stop_words=new_stop_words),\n",
    "                   'TF_2': TfidfVectorizer(ngram_range=(1,3), max_df = 0.8, min_df = 3, preprocessor=tweet_preprocessor, tokenizer=tweet_tokenizer, stop_words=new_stop_words),\n",
    "                   'TF_3': TfidfVectorizer(ngram_range=(2,3), max_df = 0.8, min_df = 3, preprocessor=tweet_preprocessor, tokenizer=tweet_tokenizer, stop_words=new_stop_words),}\n"
   ]
  },
  {
   "cell_type": "code",
   "execution_count": 34,
   "metadata": {},
   "outputs": [],
   "source": [
    "model_dict = {'Logistic Regression': LogisticRegression(max_iter=1000),    \\\n",
    "              'Naive Bayes': MultinomialNB(),    \\\n",
    "              'LinearSVM': SGDClassifier(random_state=42),    \\\n",
    "#               'Non-linear SVM': SVC(gamma=\"scale\"),    \\\n",
    "#               'Neural Network': MLPClassifier(),    \\\n",
    "              'Decision Tree': DecisionTreeClassifier(max_depth=6),    \\\n",
    "              'XGBoost': XGBClassifier(max_depth=6)\n",
    "             }"
   ]
  },
  {
   "cell_type": "code",
   "execution_count": 35,
   "metadata": {},
   "outputs": [
    {
     "name": "stdout",
     "output_type": "stream",
     "text": [
      "CV_1\n",
      "CV_2\n",
      "CV_3\n",
      "TF_1\n",
      "TF_2\n",
      "TF_3\n"
     ]
    }
   ],
   "source": [
    "for vec_name, vectorizer in vectorizer_dict.items():\n",
    "    \n",
    "    X_train_cv = vectorizer.fit_transform(X_train)\n",
    "    X_test_cv  = vectorizer.transform(X_test)\n",
    "    print(vec_name) # keep track of progress\n",
    "    \n",
    "    for mod_name, model in model_dict.items():\n",
    "        model.fit(X_train_cv, y_train);\n",
    "        y_pred_cv = model.predict(X_test_cv)\n",
    "\n",
    "        precision_cv = round(100*precision_score(y_test, y_pred_cv),3)\n",
    "        recall_cv = round(100*recall_score(y_test, y_pred_cv),3)\n",
    "        f1_cv = round(2 * (precision_cv * recall_cv) / (precision_cv + recall_cv),3)\n",
    "        \n",
    "        class_results_dict['Vectorizer Type'].append(vec_name)\n",
    "        class_results_dict['Model Name'].append(mod_name)\n",
    "        class_results_dict[('Precision')].append(precision_cv)\n",
    "        class_results_dict[('Recall')].append(recall_cv)\n",
    "        class_results_dict[('F1-score')].append(f1_cv)\n",
    "\n",
    "class_results_df = pd.DataFrame(class_results_dict)"
   ]
  },
  {
   "cell_type": "markdown",
   "metadata": {},
   "source": [
    "### Pipeline with Cross-Validation"
   ]
  },
  {
   "cell_type": "code",
   "execution_count": 36,
   "metadata": {},
   "outputs": [],
   "source": [
    "# # X = features, y = target\n",
    "\n",
    "# X_train = classified_df.full_text\n",
    "# y_train = classified_df.Believer_or_Denier"
   ]
  },
  {
   "cell_type": "code",
   "execution_count": 37,
   "metadata": {},
   "outputs": [],
   "source": [
    "# for vec_name, vectorizer in vectorizer_dict.items():\n",
    "    \n",
    "#     X_train_cv = vectorizer.fit_transform(X_train)\n",
    "#     print(vec_name)\n",
    "    \n",
    "#     for mod_name, model in model_dict.items():\n",
    "        \n",
    "#         model.fit(X_train_cv, y_train);\n",
    "#         y_pred_cv = cross_val_predict(model, X_train_cv, y_train, cv=5)\n",
    "\n",
    "#         precision_cv = round(100*precision_score(y_train, y_pred_cv),3)\n",
    "#         recall_cv = round(100*recall_score(y_train, y_pred_cv),3)\n",
    "#         f1_cv = round(100*f1_score(y_train, y_pred_cv),3)\n",
    "        \n",
    "#         class_results_dict['Vectorizer Type'].append(vec_name)\n",
    "#         class_results_dict['Model Name'].append(mod_name)\n",
    "#         class_results_dict[('Precision')].append(precision_cv)\n",
    "#         class_results_dict[('Recall')].append(recall_cv)\n",
    "#         class_results_dict[('F1-score')].append(f1_cv)\n",
    "\n",
    "# class_results_df = pd.DataFrame(class_results_dict)"
   ]
  },
  {
   "cell_type": "markdown",
   "metadata": {},
   "source": [
    "#### Manual Cross-Validation"
   ]
  },
  {
   "cell_type": "code",
   "execution_count": 38,
   "metadata": {},
   "outputs": [],
   "source": [
    "# skfolds = StratifiedKFold(n_splits=5, random_state=42)\n",
    "\n",
    "# for vec_name, vectorizer in vectorizer_dict.items():\n",
    "    \n",
    "#     X_train_cv = vectorizer.fit_transform(X_train)\n",
    "    \n",
    "#     for mod_name, model in model_dict.items():\n",
    "        \n",
    "#         metric_dict = defaultdict(list)\n",
    "        \n",
    "#         for train_index, test_index in skfolds.split(X_train, y_train):\n",
    "#             clone_model = clone(model)\n",
    "#             X_train_folds, y_train_folds = X_train[train_index], y_train[train_index]\n",
    "#             X_test_fold, y_test_fold = X_train[test_index], y_train[test_index]\n",
    "\n",
    "#             clone_model.fit(X_train_folds, y_train_folds)\n",
    "#             y_pred = clone_model.predict(X_test_fold)\n",
    "            \n",
    "#             metric_dict['Precision'].append(round(100*precision_score(y_test_fold, y_pred),3))\n",
    "#             metric_dict['Recall'].append(round(100*recall_score(y_test_fold, y_pred),3))\n",
    "#             metric_dict['F1_Score'].append(round(100*f1_score(y_test_fold, y_pred),3))\n",
    "\n",
    "#         precision_cv = np.mean(metric_dict['Precision'])\n",
    "#         recall_cv = np.mean(metric_dict['Recall'])\n",
    "#         f1_cv = np.mean(metric_dict['F1_Score'])\n",
    "        \n",
    "#         class_results_dict['Vectorizer Type'].append(vec_name)\n",
    "#         class_results_dict['Model Name'].append(mod_name)\n",
    "#         class_results_dict[('Precision')].append(precision_cv)\n",
    "#         class_results_dict[('Recall')].append(recall_cv)\n",
    "#         class_results_dict[('F1-score')].append(f1_cv)\n",
    "\n",
    "# class_results_df = pd.DataFrame(class_results_dict)"
   ]
  },
  {
   "cell_type": "markdown",
   "metadata": {},
   "source": [
    "### Pipeline - Oversampling with `RandomOverSampler`"
   ]
  },
  {
   "cell_type": "markdown",
   "metadata": {},
   "source": [
    "- Because we are working with an imbalanced dataset, we will look at the effect of oversampling and compare it to the results generated above."
   ]
  },
  {
   "cell_type": "code",
   "execution_count": 39,
   "metadata": {},
   "outputs": [],
   "source": [
    "class_results_ros = defaultdict(list)"
   ]
  },
  {
   "cell_type": "code",
   "execution_count": 40,
   "metadata": {},
   "outputs": [
    {
     "name": "stdout",
     "output_type": "stream",
     "text": [
      "CV_1\n",
      "CV_2\n",
      "CV_3\n",
      "TF_1\n",
      "TF_2\n",
      "TF_3\n"
     ]
    }
   ],
   "source": [
    "for vec_name, vectorizer in vectorizer_dict.items():\n",
    "    \n",
    "    X_train_cv = vectorizer.fit_transform(X_train)\n",
    "    X_test_cv  = vectorizer.transform(X_test)\n",
    "    X_train_ros, y_train_ros = RandomOverSampler(random_state=42).fit_sample(X_train_cv, y_train)\n",
    "    \n",
    "#     std.fit(X_train_ros.values)\n",
    "#     X_tr_cv = std.transform(X_train_ros.values)\n",
    "#     X_te_cv = std.transform(X_test_cv.values)\n",
    "    \n",
    "    print(vec_name) # keep track of progress\n",
    "    \n",
    "    for mod_name, model in model_dict.items():\n",
    "        model.fit(X_train_ros, y_train_ros);\n",
    "        y_pred_cv = model.predict(X_test_cv)\n",
    "\n",
    "        precision_cv = round(100*precision_score(y_test, y_pred_cv),3)\n",
    "        recall_cv = round(100*recall_score(y_test, y_pred_cv),3)\n",
    "        f1_cv = round(2 * (precision_cv * recall_cv) / (precision_cv + recall_cv),3)\n",
    "        \n",
    "        class_results_ros['Vectorizer Type'].append(vec_name)\n",
    "        class_results_ros['Model Name'].append(mod_name)\n",
    "        class_results_ros[('Precision')].append(precision_cv)\n",
    "        class_results_ros[('Recall')].append(recall_cv)\n",
    "        class_results_ros[('F1-score')].append(f1_cv)\n",
    "\n",
    "class_results_ros_df = pd.DataFrame(class_results_ros)"
   ]
  },
  {
   "cell_type": "markdown",
   "metadata": {},
   "source": [
    "### Pipeline - Oversampling with `RandomOverSampler` and Cross-Validation"
   ]
  },
  {
   "cell_type": "code",
   "execution_count": 41,
   "metadata": {},
   "outputs": [],
   "source": [
    "# for vec_name, vectorizer in vectorizer_dict.items():\n",
    "    \n",
    "#     X_train_cv = vectorizer.fit_transform(X_train)\n",
    "#     X_train_ros, y_train_ros = RandomOverSampler(random_state=42).fit_sample(X_train_cv, y_train)\n",
    "    \n",
    "# #     std.fit(X_train_ros.values)\n",
    "# #     X_tr_cv = std.transform(X_train_ros.values)\n",
    "# #     X_te_cv = std.transform(X_test_cv.values)\n",
    "    \n",
    "#     print(vec_name) # keep track of progress\n",
    "    \n",
    "#     for mod_name, model in model_dict.items():\n",
    "#         model.fit(X_train_ros, y_train_ros);\n",
    "#         y_pred_cv = cross_val_predict(model, X_train_ros, y_train_ros, cv=5)\n",
    "\n",
    "#         precision_cv = round(100*precision_score(y_train_ros, y_pred_cv),3)\n",
    "#         recall_cv = round(100*recall_score(y_train_ros, y_pred_cv),3)\n",
    "#         f1_cv = round(2 * (precision_cv * recall_cv) / (precision_cv + recall_cv),3)\n",
    "        \n",
    "#         class_results_ros['Vectorizer Type'].append(vec_name)\n",
    "#         class_results_ros['Model Name'].append(mod_name)\n",
    "#         class_results_ros[('Precision')].append(precision_cv)\n",
    "#         class_results_ros[('Recall')].append(recall_cv)\n",
    "#         class_results_ros[('F1-score')].append(f1_cv)\n",
    "\n",
    "# class_results_ros_df = pd.DataFrame(class_results_ros)"
   ]
  },
  {
   "cell_type": "markdown",
   "metadata": {},
   "source": [
    "## Performance Metric Evaluation"
   ]
  },
  {
   "cell_type": "markdown",
   "metadata": {},
   "source": [
    "- F1 score is the best metric to look at, as it balances precision and recall. According to the results below, **CountVectorizer** with 1,2,3 ngrams is the ideal vectorizer in combination with either **Logistic Regression** or **LinearSVM** models."
   ]
  },
  {
   "cell_type": "code",
   "execution_count": 42,
   "metadata": {},
   "outputs": [
    {
     "data": {
      "text/html": [
       "<div>\n",
       "<style scoped>\n",
       "    .dataframe tbody tr th:only-of-type {\n",
       "        vertical-align: middle;\n",
       "    }\n",
       "\n",
       "    .dataframe tbody tr th {\n",
       "        vertical-align: top;\n",
       "    }\n",
       "\n",
       "    .dataframe thead th {\n",
       "        text-align: right;\n",
       "    }\n",
       "</style>\n",
       "<table border=\"1\" class=\"dataframe\">\n",
       "  <thead>\n",
       "    <tr style=\"text-align: right;\">\n",
       "      <th></th>\n",
       "      <th>Vectorizer Type</th>\n",
       "      <th>Model Name</th>\n",
       "      <th>Precision</th>\n",
       "      <th>Recall</th>\n",
       "      <th>F1-score</th>\n",
       "    </tr>\n",
       "  </thead>\n",
       "  <tbody>\n",
       "    <tr>\n",
       "      <th>0</th>\n",
       "      <td>CV_2</td>\n",
       "      <td>Logistic Regression</td>\n",
       "      <td>91.875</td>\n",
       "      <td>69.586</td>\n",
       "      <td>79.192</td>\n",
       "    </tr>\n",
       "    <tr>\n",
       "      <th>1</th>\n",
       "      <td>CV_2</td>\n",
       "      <td>LinearSVM</td>\n",
       "      <td>92.575</td>\n",
       "      <td>67.870</td>\n",
       "      <td>78.320</td>\n",
       "    </tr>\n",
       "    <tr>\n",
       "      <th>2</th>\n",
       "      <td>CV_3</td>\n",
       "      <td>Logistic Regression</td>\n",
       "      <td>93.863</td>\n",
       "      <td>64.260</td>\n",
       "      <td>76.290</td>\n",
       "    </tr>\n",
       "    <tr>\n",
       "      <th>3</th>\n",
       "      <td>CV_1</td>\n",
       "      <td>Logistic Regression</td>\n",
       "      <td>88.471</td>\n",
       "      <td>66.746</td>\n",
       "      <td>76.088</td>\n",
       "    </tr>\n",
       "    <tr>\n",
       "      <th>4</th>\n",
       "      <td>CV_3</td>\n",
       "      <td>LinearSVM</td>\n",
       "      <td>95.723</td>\n",
       "      <td>62.249</td>\n",
       "      <td>75.439</td>\n",
       "    </tr>\n",
       "    <tr>\n",
       "      <th>5</th>\n",
       "      <td>CV_1</td>\n",
       "      <td>Naive Bayes</td>\n",
       "      <td>66.789</td>\n",
       "      <td>75.680</td>\n",
       "      <td>70.957</td>\n",
       "    </tr>\n",
       "    <tr>\n",
       "      <th>6</th>\n",
       "      <td>CV_2</td>\n",
       "      <td>Naive Bayes</td>\n",
       "      <td>63.973</td>\n",
       "      <td>79.645</td>\n",
       "      <td>70.954</td>\n",
       "    </tr>\n",
       "    <tr>\n",
       "      <th>7</th>\n",
       "      <td>TF_2</td>\n",
       "      <td>Logistic Regression</td>\n",
       "      <td>95.816</td>\n",
       "      <td>55.562</td>\n",
       "      <td>70.337</td>\n",
       "    </tr>\n",
       "    <tr>\n",
       "      <th>8</th>\n",
       "      <td>TF_1</td>\n",
       "      <td>Logistic Regression</td>\n",
       "      <td>93.781</td>\n",
       "      <td>56.213</td>\n",
       "      <td>70.292</td>\n",
       "    </tr>\n",
       "    <tr>\n",
       "      <th>9</th>\n",
       "      <td>CV_1</td>\n",
       "      <td>LinearSVM</td>\n",
       "      <td>76.901</td>\n",
       "      <td>62.840</td>\n",
       "      <td>69.163</td>\n",
       "    </tr>\n",
       "    <tr>\n",
       "      <th>10</th>\n",
       "      <td>TF_3</td>\n",
       "      <td>Logistic Regression</td>\n",
       "      <td>96.841</td>\n",
       "      <td>52.604</td>\n",
       "      <td>68.175</td>\n",
       "    </tr>\n",
       "    <tr>\n",
       "      <th>11</th>\n",
       "      <td>CV_3</td>\n",
       "      <td>Naive Bayes</td>\n",
       "      <td>57.584</td>\n",
       "      <td>78.402</td>\n",
       "      <td>66.399</td>\n",
       "    </tr>\n",
       "    <tr>\n",
       "      <th>12</th>\n",
       "      <td>TF_2</td>\n",
       "      <td>XGBoost</td>\n",
       "      <td>95.867</td>\n",
       "      <td>49.408</td>\n",
       "      <td>65.209</td>\n",
       "    </tr>\n",
       "    <tr>\n",
       "      <th>13</th>\n",
       "      <td>CV_2</td>\n",
       "      <td>XGBoost</td>\n",
       "      <td>96.725</td>\n",
       "      <td>48.935</td>\n",
       "      <td>64.990</td>\n",
       "    </tr>\n",
       "    <tr>\n",
       "      <th>14</th>\n",
       "      <td>TF_1</td>\n",
       "      <td>XGBoost</td>\n",
       "      <td>94.545</td>\n",
       "      <td>49.231</td>\n",
       "      <td>64.747</td>\n",
       "    </tr>\n",
       "    <tr>\n",
       "      <th>15</th>\n",
       "      <td>CV_1</td>\n",
       "      <td>XGBoost</td>\n",
       "      <td>95.139</td>\n",
       "      <td>48.639</td>\n",
       "      <td>64.370</td>\n",
       "    </tr>\n",
       "    <tr>\n",
       "      <th>16</th>\n",
       "      <td>TF_3</td>\n",
       "      <td>Naive Bayes</td>\n",
       "      <td>95.556</td>\n",
       "      <td>48.343</td>\n",
       "      <td>64.204</td>\n",
       "    </tr>\n",
       "    <tr>\n",
       "      <th>17</th>\n",
       "      <td>CV_3</td>\n",
       "      <td>XGBoost</td>\n",
       "      <td>97.800</td>\n",
       "      <td>47.337</td>\n",
       "      <td>63.796</td>\n",
       "    </tr>\n",
       "    <tr>\n",
       "      <th>18</th>\n",
       "      <td>TF_3</td>\n",
       "      <td>XGBoost</td>\n",
       "      <td>97.181</td>\n",
       "      <td>46.923</td>\n",
       "      <td>63.288</td>\n",
       "    </tr>\n",
       "    <tr>\n",
       "      <th>19</th>\n",
       "      <td>TF_2</td>\n",
       "      <td>Naive Bayes</td>\n",
       "      <td>96.106</td>\n",
       "      <td>45.266</td>\n",
       "      <td>61.544</td>\n",
       "    </tr>\n",
       "    <tr>\n",
       "      <th>20</th>\n",
       "      <td>TF_2</td>\n",
       "      <td>LinearSVM</td>\n",
       "      <td>97.647</td>\n",
       "      <td>44.201</td>\n",
       "      <td>60.855</td>\n",
       "    </tr>\n",
       "    <tr>\n",
       "      <th>21</th>\n",
       "      <td>TF_3</td>\n",
       "      <td>LinearSVM</td>\n",
       "      <td>97.849</td>\n",
       "      <td>43.077</td>\n",
       "      <td>59.819</td>\n",
       "    </tr>\n",
       "    <tr>\n",
       "      <th>22</th>\n",
       "      <td>TF_1</td>\n",
       "      <td>LinearSVM</td>\n",
       "      <td>95.910</td>\n",
       "      <td>43.018</td>\n",
       "      <td>59.396</td>\n",
       "    </tr>\n",
       "    <tr>\n",
       "      <th>23</th>\n",
       "      <td>CV_2</td>\n",
       "      <td>Decision Tree</td>\n",
       "      <td>95.224</td>\n",
       "      <td>37.751</td>\n",
       "      <td>54.067</td>\n",
       "    </tr>\n",
       "    <tr>\n",
       "      <th>24</th>\n",
       "      <td>TF_2</td>\n",
       "      <td>Decision Tree</td>\n",
       "      <td>94.100</td>\n",
       "      <td>37.751</td>\n",
       "      <td>53.885</td>\n",
       "    </tr>\n",
       "    <tr>\n",
       "      <th>25</th>\n",
       "      <td>TF_1</td>\n",
       "      <td>Naive Bayes</td>\n",
       "      <td>97.179</td>\n",
       "      <td>36.686</td>\n",
       "      <td>53.264</td>\n",
       "    </tr>\n",
       "    <tr>\n",
       "      <th>26</th>\n",
       "      <td>CV_3</td>\n",
       "      <td>Decision Tree</td>\n",
       "      <td>95.659</td>\n",
       "      <td>36.509</td>\n",
       "      <td>52.848</td>\n",
       "    </tr>\n",
       "    <tr>\n",
       "      <th>27</th>\n",
       "      <td>TF_3</td>\n",
       "      <td>Decision Tree</td>\n",
       "      <td>95.511</td>\n",
       "      <td>36.509</td>\n",
       "      <td>52.825</td>\n",
       "    </tr>\n",
       "    <tr>\n",
       "      <th>28</th>\n",
       "      <td>TF_1</td>\n",
       "      <td>Decision Tree</td>\n",
       "      <td>92.779</td>\n",
       "      <td>34.970</td>\n",
       "      <td>50.795</td>\n",
       "    </tr>\n",
       "    <tr>\n",
       "      <th>29</th>\n",
       "      <td>CV_1</td>\n",
       "      <td>Decision Tree</td>\n",
       "      <td>92.243</td>\n",
       "      <td>32.367</td>\n",
       "      <td>47.920</td>\n",
       "    </tr>\n",
       "  </tbody>\n",
       "</table>\n",
       "</div>"
      ],
      "text/plain": [
       "   Vectorizer Type           Model Name  Precision  Recall  F1-score\n",
       "0             CV_2  Logistic Regression     91.875  69.586    79.192\n",
       "1             CV_2            LinearSVM     92.575  67.870    78.320\n",
       "2             CV_3  Logistic Regression     93.863  64.260    76.290\n",
       "3             CV_1  Logistic Regression     88.471  66.746    76.088\n",
       "4             CV_3            LinearSVM     95.723  62.249    75.439\n",
       "5             CV_1          Naive Bayes     66.789  75.680    70.957\n",
       "6             CV_2          Naive Bayes     63.973  79.645    70.954\n",
       "7             TF_2  Logistic Regression     95.816  55.562    70.337\n",
       "8             TF_1  Logistic Regression     93.781  56.213    70.292\n",
       "9             CV_1            LinearSVM     76.901  62.840    69.163\n",
       "10            TF_3  Logistic Regression     96.841  52.604    68.175\n",
       "11            CV_3          Naive Bayes     57.584  78.402    66.399\n",
       "12            TF_2              XGBoost     95.867  49.408    65.209\n",
       "13            CV_2              XGBoost     96.725  48.935    64.990\n",
       "14            TF_1              XGBoost     94.545  49.231    64.747\n",
       "15            CV_1              XGBoost     95.139  48.639    64.370\n",
       "16            TF_3          Naive Bayes     95.556  48.343    64.204\n",
       "17            CV_3              XGBoost     97.800  47.337    63.796\n",
       "18            TF_3              XGBoost     97.181  46.923    63.288\n",
       "19            TF_2          Naive Bayes     96.106  45.266    61.544\n",
       "20            TF_2            LinearSVM     97.647  44.201    60.855\n",
       "21            TF_3            LinearSVM     97.849  43.077    59.819\n",
       "22            TF_1            LinearSVM     95.910  43.018    59.396\n",
       "23            CV_2        Decision Tree     95.224  37.751    54.067\n",
       "24            TF_2        Decision Tree     94.100  37.751    53.885\n",
       "25            TF_1          Naive Bayes     97.179  36.686    53.264\n",
       "26            CV_3        Decision Tree     95.659  36.509    52.848\n",
       "27            TF_3        Decision Tree     95.511  36.509    52.825\n",
       "28            TF_1        Decision Tree     92.779  34.970    50.795\n",
       "29            CV_1        Decision Tree     92.243  32.367    47.920"
      ]
     },
     "execution_count": 42,
     "metadata": {},
     "output_type": "execute_result"
    }
   ],
   "source": [
    "# No oversampling\n",
    "\n",
    "class_results_df.sort_values(by='F1-score', ascending=False).reset_index(drop=True)"
   ]
  },
  {
   "cell_type": "code",
   "execution_count": 43,
   "metadata": {},
   "outputs": [
    {
     "data": {
      "text/html": [
       "<div>\n",
       "<style scoped>\n",
       "    .dataframe tbody tr th:only-of-type {\n",
       "        vertical-align: middle;\n",
       "    }\n",
       "\n",
       "    .dataframe tbody tr th {\n",
       "        vertical-align: top;\n",
       "    }\n",
       "\n",
       "    .dataframe thead th {\n",
       "        text-align: right;\n",
       "    }\n",
       "</style>\n",
       "<table border=\"1\" class=\"dataframe\">\n",
       "  <thead>\n",
       "    <tr style=\"text-align: right;\">\n",
       "      <th></th>\n",
       "      <th>Vectorizer Type</th>\n",
       "      <th>Model Name</th>\n",
       "      <th>Precision</th>\n",
       "      <th>Recall</th>\n",
       "      <th>F1-score</th>\n",
       "    </tr>\n",
       "  </thead>\n",
       "  <tbody>\n",
       "    <tr>\n",
       "      <th>0</th>\n",
       "      <td>CV_2</td>\n",
       "      <td>Logistic Regression</td>\n",
       "      <td>76.358</td>\n",
       "      <td>78.166</td>\n",
       "      <td>77.251</td>\n",
       "    </tr>\n",
       "    <tr>\n",
       "      <th>1</th>\n",
       "      <td>CV_2</td>\n",
       "      <td>LinearSVM</td>\n",
       "      <td>75.624</td>\n",
       "      <td>78.935</td>\n",
       "      <td>77.244</td>\n",
       "    </tr>\n",
       "    <tr>\n",
       "      <th>2</th>\n",
       "      <td>TF_2</td>\n",
       "      <td>Logistic Regression</td>\n",
       "      <td>70.030</td>\n",
       "      <td>82.544</td>\n",
       "      <td>75.774</td>\n",
       "    </tr>\n",
       "    <tr>\n",
       "      <th>3</th>\n",
       "      <td>CV_3</td>\n",
       "      <td>Logistic Regression</td>\n",
       "      <td>73.433</td>\n",
       "      <td>75.562</td>\n",
       "      <td>74.482</td>\n",
       "    </tr>\n",
       "    <tr>\n",
       "      <th>4</th>\n",
       "      <td>CV_3</td>\n",
       "      <td>LinearSVM</td>\n",
       "      <td>73.116</td>\n",
       "      <td>75.799</td>\n",
       "      <td>74.433</td>\n",
       "    </tr>\n",
       "    <tr>\n",
       "      <th>5</th>\n",
       "      <td>TF_3</td>\n",
       "      <td>Logistic Regression</td>\n",
       "      <td>69.942</td>\n",
       "      <td>77.929</td>\n",
       "      <td>73.720</td>\n",
       "    </tr>\n",
       "    <tr>\n",
       "      <th>6</th>\n",
       "      <td>TF_2</td>\n",
       "      <td>LinearSVM</td>\n",
       "      <td>66.379</td>\n",
       "      <td>81.893</td>\n",
       "      <td>73.324</td>\n",
       "    </tr>\n",
       "    <tr>\n",
       "      <th>7</th>\n",
       "      <td>TF_3</td>\n",
       "      <td>LinearSVM</td>\n",
       "      <td>68.863</td>\n",
       "      <td>76.686</td>\n",
       "      <td>72.564</td>\n",
       "    </tr>\n",
       "    <tr>\n",
       "      <th>8</th>\n",
       "      <td>CV_1</td>\n",
       "      <td>Logistic Regression</td>\n",
       "      <td>60.411</td>\n",
       "      <td>81.716</td>\n",
       "      <td>69.467</td>\n",
       "    </tr>\n",
       "    <tr>\n",
       "      <th>9</th>\n",
       "      <td>TF_1</td>\n",
       "      <td>Logistic Regression</td>\n",
       "      <td>58.043</td>\n",
       "      <td>83.905</td>\n",
       "      <td>68.618</td>\n",
       "    </tr>\n",
       "    <tr>\n",
       "      <th>10</th>\n",
       "      <td>CV_1</td>\n",
       "      <td>LinearSVM</td>\n",
       "      <td>56.911</td>\n",
       "      <td>83.077</td>\n",
       "      <td>67.549</td>\n",
       "    </tr>\n",
       "    <tr>\n",
       "      <th>11</th>\n",
       "      <td>TF_1</td>\n",
       "      <td>LinearSVM</td>\n",
       "      <td>55.986</td>\n",
       "      <td>83.846</td>\n",
       "      <td>67.141</td>\n",
       "    </tr>\n",
       "    <tr>\n",
       "      <th>12</th>\n",
       "      <td>TF_2</td>\n",
       "      <td>Naive Bayes</td>\n",
       "      <td>53.986</td>\n",
       "      <td>86.154</td>\n",
       "      <td>66.378</td>\n",
       "    </tr>\n",
       "    <tr>\n",
       "      <th>13</th>\n",
       "      <td>CV_2</td>\n",
       "      <td>Naive Bayes</td>\n",
       "      <td>54.411</td>\n",
       "      <td>85.030</td>\n",
       "      <td>66.359</td>\n",
       "    </tr>\n",
       "    <tr>\n",
       "      <th>14</th>\n",
       "      <td>CV_2</td>\n",
       "      <td>XGBoost</td>\n",
       "      <td>60.030</td>\n",
       "      <td>71.361</td>\n",
       "      <td>65.207</td>\n",
       "    </tr>\n",
       "    <tr>\n",
       "      <th>15</th>\n",
       "      <td>TF_1</td>\n",
       "      <td>XGBoost</td>\n",
       "      <td>59.619</td>\n",
       "      <td>70.414</td>\n",
       "      <td>64.568</td>\n",
       "    </tr>\n",
       "    <tr>\n",
       "      <th>16</th>\n",
       "      <td>CV_1</td>\n",
       "      <td>XGBoost</td>\n",
       "      <td>58.619</td>\n",
       "      <td>71.834</td>\n",
       "      <td>64.557</td>\n",
       "    </tr>\n",
       "    <tr>\n",
       "      <th>17</th>\n",
       "      <td>TF_2</td>\n",
       "      <td>XGBoost</td>\n",
       "      <td>58.963</td>\n",
       "      <td>70.651</td>\n",
       "      <td>64.280</td>\n",
       "    </tr>\n",
       "    <tr>\n",
       "      <th>18</th>\n",
       "      <td>TF_3</td>\n",
       "      <td>Naive Bayes</td>\n",
       "      <td>50.716</td>\n",
       "      <td>83.846</td>\n",
       "      <td>63.203</td>\n",
       "    </tr>\n",
       "    <tr>\n",
       "      <th>19</th>\n",
       "      <td>CV_3</td>\n",
       "      <td>Naive Bayes</td>\n",
       "      <td>51.023</td>\n",
       "      <td>82.663</td>\n",
       "      <td>63.099</td>\n",
       "    </tr>\n",
       "    <tr>\n",
       "      <th>20</th>\n",
       "      <td>CV_3</td>\n",
       "      <td>XGBoost</td>\n",
       "      <td>61.595</td>\n",
       "      <td>64.438</td>\n",
       "      <td>62.984</td>\n",
       "    </tr>\n",
       "    <tr>\n",
       "      <th>21</th>\n",
       "      <td>TF_1</td>\n",
       "      <td>Naive Bayes</td>\n",
       "      <td>49.208</td>\n",
       "      <td>86.391</td>\n",
       "      <td>62.701</td>\n",
       "    </tr>\n",
       "    <tr>\n",
       "      <th>22</th>\n",
       "      <td>TF_3</td>\n",
       "      <td>XGBoost</td>\n",
       "      <td>60.704</td>\n",
       "      <td>64.260</td>\n",
       "      <td>62.431</td>\n",
       "    </tr>\n",
       "    <tr>\n",
       "      <th>23</th>\n",
       "      <td>CV_1</td>\n",
       "      <td>Naive Bayes</td>\n",
       "      <td>44.146</td>\n",
       "      <td>87.456</td>\n",
       "      <td>58.674</td>\n",
       "    </tr>\n",
       "    <tr>\n",
       "      <th>24</th>\n",
       "      <td>TF_2</td>\n",
       "      <td>Decision Tree</td>\n",
       "      <td>74.202</td>\n",
       "      <td>48.166</td>\n",
       "      <td>58.414</td>\n",
       "    </tr>\n",
       "    <tr>\n",
       "      <th>25</th>\n",
       "      <td>CV_2</td>\n",
       "      <td>Decision Tree</td>\n",
       "      <td>70.351</td>\n",
       "      <td>48.580</td>\n",
       "      <td>57.473</td>\n",
       "    </tr>\n",
       "    <tr>\n",
       "      <th>26</th>\n",
       "      <td>TF_1</td>\n",
       "      <td>Decision Tree</td>\n",
       "      <td>68.477</td>\n",
       "      <td>49.231</td>\n",
       "      <td>57.281</td>\n",
       "    </tr>\n",
       "    <tr>\n",
       "      <th>27</th>\n",
       "      <td>TF_3</td>\n",
       "      <td>Decision Tree</td>\n",
       "      <td>72.087</td>\n",
       "      <td>47.219</td>\n",
       "      <td>57.061</td>\n",
       "    </tr>\n",
       "    <tr>\n",
       "      <th>28</th>\n",
       "      <td>CV_3</td>\n",
       "      <td>Decision Tree</td>\n",
       "      <td>69.922</td>\n",
       "      <td>47.456</td>\n",
       "      <td>56.539</td>\n",
       "    </tr>\n",
       "    <tr>\n",
       "      <th>29</th>\n",
       "      <td>CV_1</td>\n",
       "      <td>Decision Tree</td>\n",
       "      <td>65.211</td>\n",
       "      <td>49.467</td>\n",
       "      <td>56.258</td>\n",
       "    </tr>\n",
       "  </tbody>\n",
       "</table>\n",
       "</div>"
      ],
      "text/plain": [
       "   Vectorizer Type           Model Name  Precision  Recall  F1-score\n",
       "0             CV_2  Logistic Regression     76.358  78.166    77.251\n",
       "1             CV_2            LinearSVM     75.624  78.935    77.244\n",
       "2             TF_2  Logistic Regression     70.030  82.544    75.774\n",
       "3             CV_3  Logistic Regression     73.433  75.562    74.482\n",
       "4             CV_3            LinearSVM     73.116  75.799    74.433\n",
       "5             TF_3  Logistic Regression     69.942  77.929    73.720\n",
       "6             TF_2            LinearSVM     66.379  81.893    73.324\n",
       "7             TF_3            LinearSVM     68.863  76.686    72.564\n",
       "8             CV_1  Logistic Regression     60.411  81.716    69.467\n",
       "9             TF_1  Logistic Regression     58.043  83.905    68.618\n",
       "10            CV_1            LinearSVM     56.911  83.077    67.549\n",
       "11            TF_1            LinearSVM     55.986  83.846    67.141\n",
       "12            TF_2          Naive Bayes     53.986  86.154    66.378\n",
       "13            CV_2          Naive Bayes     54.411  85.030    66.359\n",
       "14            CV_2              XGBoost     60.030  71.361    65.207\n",
       "15            TF_1              XGBoost     59.619  70.414    64.568\n",
       "16            CV_1              XGBoost     58.619  71.834    64.557\n",
       "17            TF_2              XGBoost     58.963  70.651    64.280\n",
       "18            TF_3          Naive Bayes     50.716  83.846    63.203\n",
       "19            CV_3          Naive Bayes     51.023  82.663    63.099\n",
       "20            CV_3              XGBoost     61.595  64.438    62.984\n",
       "21            TF_1          Naive Bayes     49.208  86.391    62.701\n",
       "22            TF_3              XGBoost     60.704  64.260    62.431\n",
       "23            CV_1          Naive Bayes     44.146  87.456    58.674\n",
       "24            TF_2        Decision Tree     74.202  48.166    58.414\n",
       "25            CV_2        Decision Tree     70.351  48.580    57.473\n",
       "26            TF_1        Decision Tree     68.477  49.231    57.281\n",
       "27            TF_3        Decision Tree     72.087  47.219    57.061\n",
       "28            CV_3        Decision Tree     69.922  47.456    56.539\n",
       "29            CV_1        Decision Tree     65.211  49.467    56.258"
      ]
     },
     "execution_count": 43,
     "metadata": {},
     "output_type": "execute_result"
    }
   ],
   "source": [
    "# RandomOverSampling\n",
    "\n",
    "class_results_ros_df.sort_values(by='F1-score', ascending=False).reset_index(drop=True)"
   ]
  },
  {
   "cell_type": "markdown",
   "metadata": {},
   "source": [
    "## Further Evaluation"
   ]
  },
  {
   "cell_type": "markdown",
   "metadata": {},
   "source": [
    "- Looking at confusion matrix, ROC curve, and precision/recall curve for logistic regression and linearSVM models.\n",
    "    - Because we are working with an imbalanced dataset, the ROC curve will not be used. It tends to be a little too optimistic.\n",
    "    - Therefore, the precision-recall curve and confusion matrix will be evaluated."
   ]
  },
  {
   "cell_type": "code",
   "execution_count": 44,
   "metadata": {},
   "outputs": [],
   "source": [
    "# Confusion Matrix Function\n",
    "\n",
    "def conf_matrix(actual, predicted):\n",
    "    cm = confusion_matrix(actual, predicted)\n",
    "    ax = sns.heatmap(cm, xticklabels=['predicted_believer', 'predicted_denier'], \n",
    "                yticklabels=['actual_beliver', 'actual_denier'], annot=True,\n",
    "                fmt='d', annot_kws={'fontsize':20}, cmap=\"YlGnBu\");\n",
    "    \n",
    "    bottom, top = ax.get_ylim()\n",
    "    ax.set_ylim(bottom, top)\n",
    "    true_neg, false_pos = cm[0]\n",
    "    false_neg, true_pos = cm[1]\n",
    "\n",
    "    return"
   ]
  },
  {
   "cell_type": "code",
   "execution_count": 45,
   "metadata": {},
   "outputs": [],
   "source": [
    "# ROC Curve Function\n",
    "\n",
    "def roc_curve_generator(X_test, y_test, model_name, model_variable):\n",
    "\n",
    "    roc_curve_dict = defaultdict(list)\n",
    "    \n",
    "    fpr, tpr, thresholds = roc_curve(y_test, model_variable.predict_proba(X_test)[:,1])\n",
    "    roc_curve_dict[model_name] = pd.DataFrame(list(zip(fpr, tpr, thresholds)),    \\\n",
    "                                              columns=['False Positive Rate','True Positive Rate', 'Threshhold'])\n",
    "    \n",
    "    # Plot roc_curve\n",
    "    \n",
    "    fig1 = plt.figure(figsize=[9,9], dpi=100)\n",
    "\n",
    "    plt.plot(roc_curve_dict[model_name]['False Positive Rate'].values,    \\\n",
    "             roc_curve_dict[model_name]['True Positive Rate'].values,    \\\n",
    "             lw=2, label=model_name)\n",
    "\n",
    "    plt.plot([0,1],[0,1],c='violet',ls='--')\n",
    "    plt.xlim([-0.05,1.05])\n",
    "    plt.ylim([-0.05,1.05])\n",
    "\n",
    "    plt.xlabel('False positive rate', fontsize=15)\n",
    "    plt.ylabel('True positive rate', fontsize=15)\n",
    "    plt.xticks(fontsize=15)\n",
    "    plt.yticks(fontsize=15)\n",
    "    plt.title('ROC Curve', fontsize=15);\n",
    "    plt.legend(fontsize=10)\n",
    "    \n",
    "    return roc_curve_dict"
   ]
  },
  {
   "cell_type": "code",
   "execution_count": 46,
   "metadata": {},
   "outputs": [],
   "source": [
    "# Precision-Recall Curve Function\n",
    "\n",
    "def prec_rec_curve_generator(X_test, y_test, model_name, model_variable):\n",
    "\n",
    "    prec_rec_curve_dict = defaultdict(list)\n",
    "    \n",
    "    precision_curve, recall_curve, threshold_curve = precision_recall_curve(y_test, model_variable.decision_function(X_test))\n",
    "    prec_rec_curve_dict[model_name] = pd.DataFrame(list(zip(precision_curve, recall_curve, threshold_curve)),    \\\n",
    "                                                   columns=['precision','recall','threshold'])\n",
    "\n",
    "    # Plot precision_recall_curve\n",
    "    \n",
    "    fig2 = plt.figure(figsize=[9,9], dpi=100)\n",
    "\n",
    "    plt.plot(prec_rec_curve_dict[model_name]['recall'].values,    \\\n",
    "             prec_rec_curve_dict[model_name]['precision'].values,    \\\n",
    "             lw=2, label=model_name)\n",
    "\n",
    "    plt.plot([1,0],[0,1],c='violet',ls='--')\n",
    "    plt.xlim([-0.05,1.05])\n",
    "    plt.ylim([-0.05,1.05])\n",
    "\n",
    "    plt.xlabel('Recall', fontsize=15)\n",
    "    plt.ylabel('Precision', fontsize=15)\n",
    "    plt.xticks(fontsize=15)\n",
    "    plt.yticks(fontsize=15)\n",
    "    plt.title('Precision-Recall Curve', fontsize=15);\n",
    "    plt.legend(fontsize=10)\n",
    "    \n",
    "    return prec_rec_curve_dict"
   ]
  },
  {
   "cell_type": "code",
   "execution_count": 47,
   "metadata": {},
   "outputs": [],
   "source": [
    "# Set CountVectorizer to CV_2 from above\n",
    "\n",
    "cv = CountVectorizer(ngram_range=(1,3), max_df = 0.8, min_df = 3, preprocessor=tweet_preprocessor, tokenizer=tweet_tokenizer, stop_words=new_stop_words)\n",
    "\n",
    "X_train_cv2 = cv.fit_transform(X_train)\n",
    "X_test_cv2  = cv.transform(X_test)\n",
    "X_train_ros, y_train_ros = RandomOverSampler(random_state=42).fit_sample(X_train_cv2, y_train)"
   ]
  },
  {
   "cell_type": "markdown",
   "metadata": {},
   "source": [
    "### Logistic Regression"
   ]
  },
  {
   "cell_type": "code",
   "execution_count": 48,
   "metadata": {},
   "outputs": [],
   "source": [
    "logit = LogisticRegression(max_iter=1000)"
   ]
  },
  {
   "cell_type": "code",
   "execution_count": 49,
   "metadata": {},
   "outputs": [],
   "source": [
    "logit.fit(X_train_cv2, y_train)\n",
    "y_pred_logit = logit.predict(X_test_cv2)"
   ]
  },
  {
   "cell_type": "markdown",
   "metadata": {},
   "source": [
    "#### Confusion Matrix"
   ]
  },
  {
   "cell_type": "code",
   "execution_count": 50,
   "metadata": {},
   "outputs": [
    {
     "data": {
      "image/png": "[encoded data removed]",
      "text/plain": [
       "<Figure size 432x288 with 2 Axes>"
      ]
     },
     "metadata": {
      "needs_background": "light"
     },
     "output_type": "display_data"
    }
   ],
   "source": [
    "conf_matrix(y_test, y_pred_logit)"
   ]
  },
  {
   "cell_type": "markdown",
   "metadata": {},
   "source": [
    "#### ROC Curve"
   ]
  },
  {
   "cell_type": "code",
   "execution_count": 51,
   "metadata": {},
   "outputs": [
    {
     "data": {
      "image/png": "[encoded data removed]",
      "text/plain": [
       "<Figure size 900x900 with 1 Axes>"
      ]
     },
     "metadata": {
      "needs_background": "light"
     },
     "output_type": "display_data"
    }
   ],
   "source": [
    "logit_roc = roc_curve_generator(X_test_cv2, y_test, 'Logistic Regression', logit)"
   ]
  },
  {
   "cell_type": "markdown",
   "metadata": {},
   "source": [
    "#### Precision-Recall Curve\n",
    "- Looks promising!"
   ]
  },
  {
   "cell_type": "code",
   "execution_count": 52,
   "metadata": {},
   "outputs": [
    {
     "data": {
      "image/png": "[encoded data removed]",
      "text/plain": [
       "<Figure size 900x900 with 1 Axes>"
      ]
     },
     "metadata": {
      "needs_background": "light"
     },
     "output_type": "display_data"
    }
   ],
   "source": [
    "logit_prec_rec = prec_rec_curve_generator(X_test_cv2, y_test, 'Logistic Regression', logit)"
   ]
  },
  {
   "cell_type": "markdown",
   "metadata": {},
   "source": [
    "### Linear SVM"
   ]
  },
  {
   "cell_type": "code",
   "execution_count": 53,
   "metadata": {},
   "outputs": [],
   "source": [
    "svm = SGDClassifier()"
   ]
  },
  {
   "cell_type": "code",
   "execution_count": 54,
   "metadata": {},
   "outputs": [],
   "source": [
    "svm.fit(X_train_cv2, y_train)\n",
    "y_pred_svm = svm.predict(X_test_cv2)"
   ]
  },
  {
   "cell_type": "code",
   "execution_count": 55,
   "metadata": {},
   "outputs": [],
   "source": [
    "# svc = SVC(probability=True)"
   ]
  },
  {
   "cell_type": "code",
   "execution_count": 56,
   "metadata": {},
   "outputs": [],
   "source": [
    "# svc.fit(X_train_cv2, y_train)\n",
    "# y_pred_svc = svc.predict(X_test_cv2)"
   ]
  },
  {
   "cell_type": "markdown",
   "metadata": {},
   "source": [
    "#### Confusion Matrix"
   ]
  },
  {
   "cell_type": "code",
   "execution_count": 57,
   "metadata": {},
   "outputs": [
    {
     "data": {
      "image/png": "[encoded data removed]",
      "text/plain": [
       "<Figure size 432x288 with 2 Axes>"
      ]
     },
     "metadata": {
      "needs_background": "light"
     },
     "output_type": "display_data"
    }
   ],
   "source": [
    "conf_matrix(y_test, y_pred_svm)"
   ]
  },
  {
   "cell_type": "code",
   "execution_count": 58,
   "metadata": {},
   "outputs": [],
   "source": [
    "# conf_matrix(y_test, y_pred_svc)"
   ]
  },
  {
   "cell_type": "markdown",
   "metadata": {},
   "source": [
    "#### ROC Curve"
   ]
  },
  {
   "cell_type": "code",
   "execution_count": 59,
   "metadata": {},
   "outputs": [],
   "source": [
    "# roc_curve_generator(X_test_cv2, y_test, 'Linear SVM', svm)"
   ]
  },
  {
   "cell_type": "markdown",
   "metadata": {},
   "source": [
    "#### Precision-Recall Curve\n",
    "- Looks promising!"
   ]
  },
  {
   "cell_type": "code",
   "execution_count": 60,
   "metadata": {},
   "outputs": [
    {
     "data": {
      "image/png": "[encoded data removed]",
      "text/plain": [
       "<Figure size 900x900 with 1 Axes>"
      ]
     },
     "metadata": {
      "needs_background": "light"
     },
     "output_type": "display_data"
    }
   ],
   "source": [
    "svm_prec_rec = prec_rec_curve_generator(X_test_cv2, y_test, 'Linear SVM', svm)"
   ]
  },
  {
   "cell_type": "markdown",
   "metadata": {},
   "source": [
    "# Optimize Models with GridSearch"
   ]
  },
  {
   "cell_type": "markdown",
   "metadata": {},
   "source": [
    "- With the two best baseline models selected, GridSearchCV will now be used to find the hyperparameters and threshold that optimize the F1 score for each.  The model that has the highest F1 score will be applied to the entire dataset.\n",
    "    - The optimal threshold will be found using the confusion matrix widget."
   ]
  },
  {
   "cell_type": "markdown",
   "metadata": {},
   "source": [
    "## Logistic Regression GridSearch"
   ]
  },
  {
   "cell_type": "code",
   "execution_count": 61,
   "metadata": {},
   "outputs": [],
   "source": [
    "# logit_params = [{'max_iter': [100000]}, {'penalty': ['none', 'l2']}, {'solver': ['lbfgs']}, {'C': [0.00001,0.0001,0.001,0.01,0.1,1,10,100,1000]}]\n",
    "\n",
    "# gs_logit = GridSearchCV(LogisticRegression(), logit_params, cv=5, scoring='f1', error_score=0.0)\n",
    "# gs_logit.fit(X_train_cv2, y_train)\n",
    "# y_true, y_pred = y_test, gs_logit.predict(X_test_cv2)\n",
    "\n",
    "# print('Best Parameters are:', gs_logit.best_params_)\n",
    "# print('accuracy =', accuracy_score(y_true, y_pred))\n",
    "# print('precision = ', precision_score(y_true, y_pred))\n",
    "# print('recall = ', recall_score(y_true, y_pred))\n",
    "# print('f1 score = ', f1_score(y_true, y_pred))\n"
   ]
  },
  {
   "cell_type": "code",
   "execution_count": 62,
   "metadata": {},
   "outputs": [
    {
     "name": "stdout",
     "output_type": "stream",
     "text": [
      "accuracy = 0.9767538085386496\n",
      "precision =  0.91875\n",
      "recall =  0.6958579881656805\n",
      "f1 score =  0.791919191919192\n"
     ]
    }
   ],
   "source": [
    "logit_gs = LogisticRegression(max_iter=1000, solver='lbfgs', penalty='l2', C=1)\n",
    "logit_gs.fit(X_train_cv2, y_train)\n",
    "y_true, y_pred = y_test, logit_gs.predict(X_test_cv2)\n",
    "\n",
    "print('accuracy =', accuracy_score(y_true, y_pred))\n",
    "print('precision = ', precision_score(y_true, y_pred))\n",
    "print('recall = ', recall_score(y_true, y_pred))\n",
    "print('f1 score = ', f1_score(y_true, y_pred))"
   ]
  },
  {
   "cell_type": "code",
   "execution_count": 63,
   "metadata": {},
   "outputs": [
    {
     "data": {
      "application/vnd.jupyter.widget-view+json": {
       "model_id": "0b55621ca0fd4aebb25682bf8af0a5c6",
       "version_major": 2,
       "version_minor": 0
      },
      "text/plain": [
       "interactive(children=(FloatSlider(value=0.0, description='thresh', max=1.0, step=0.01), Output()), _dom_classe…"
      ]
     },
     "metadata": {},
     "output_type": "display_data"
    }
   ],
   "source": [
    "from ipywidgets import interact\n",
    "# Create a widget to show confusion matrix and the precision and recall scores given a sliding threshold value as an input\n",
    "@interact(thresh=(0, 1, .01))\n",
    "def logit_confusion(thresh):\n",
    "    y_predict = (logit_gs.predict_proba(X_test_cv2)[:, 1] > thresh)\n",
    "    precision = precision_score(y_test, y_predict)\n",
    "    recall = recall_score(y_test, y_predict)\n",
    "    f1 = 2 * (precision * recall) / (precision + recall)\n",
    "    logit_confusion = confusion_matrix(y_test, y_predict)\n",
    "    \n",
    "    plt.figure(dpi=150)\n",
    "    ax = sns.heatmap(logit_confusion, cmap=plt.cm.Purples, annot=True, square=True, fmt='g',\n",
    "           xticklabels=['Believer', 'Denier'],\n",
    "           yticklabels=['Believer', 'Denier'])\n",
    "    bottom, top = ax.get_ylim()\n",
    "    ax.set_ylim(bottom, top)\n",
    "    plt.xlabel('Predicted')\n",
    "    plt.ylabel('Actual')\n",
    "    plt.title('Logistic Regression Confusion Matrix');\n",
    "    \n",
    "    return 'Threshold: ' + str(thresh), \"Precision: {:6.4f},   Recall: {:6.4f},    F1-score: {:6.4f}\".format(precision, recall, f1)"
   ]
  },
  {
   "cell_type": "markdown",
   "metadata": {},
   "source": [
    "**Optimal Threshold: 0.32, Precision: 0.8697, Recall: 0.7462, F1-score: 0.8032**"
   ]
  },
  {
   "cell_type": "markdown",
   "metadata": {},
   "source": [
    "## SVM GridSearch"
   ]
  },
  {
   "cell_type": "code",
   "execution_count": 64,
   "metadata": {},
   "outputs": [],
   "source": [
    "# svm_params = [{'loss': ['hinge', 'log', 'modified_huber', 'squared_hinge'], 'penalty': ['l1', 'l2'], \n",
    "#                  'alpha': [0.0001,0.001,0.01,0.1,1,10,100,1000], 'random_state': [42]}]\n",
    "\n",
    "# gs_svm = GridSearchCV(SGDClassifier(), svm_params, cv=5, scoring='f1')\n",
    "# gs_svm.fit(X_train_ros, y_train_ros)\n",
    "# y_true, y_pred = y_test, gs_svm.predict(X_test_cv2)\n",
    "\n",
    "# print('Best Parameters:', gs_svm.best_params_)\n",
    "# print('accuracy =', accuracy_score(y_true, y_pred))\n",
    "# print('precision = ', precision_score(y_true, y_pred))\n",
    "# print('recall = ', recall_score(y_true, y_pred))\n",
    "# print('f1 score = ', f1_score(y_true, y_pred))"
   ]
  },
  {
   "cell_type": "code",
   "execution_count": 65,
   "metadata": {},
   "outputs": [
    {
     "name": "stdout",
     "output_type": "stream",
     "text": [
      "accuracy = 0.9703216099304118\n",
      "precision =  0.7599538372763993\n",
      "recall =  0.7792899408284024\n",
      "f1 score =  0.7695004382120946\n"
     ]
    }
   ],
   "source": [
    "svm = SGDClassifier(loss='modified_huber', penalty='l2', alpha=0.0001, random_state=42)\n",
    "svm.fit(X_train_ros, y_train_ros)\n",
    "y_true, y_pred = y_test, svm.predict(X_test_cv2)\n",
    "\n",
    "print('accuracy =', accuracy_score(y_true, y_pred))\n",
    "print('precision = ', precision_score(y_true, y_pred))\n",
    "print('recall = ', recall_score(y_true, y_pred))\n",
    "print('f1 score = ', f1_score(y_true, y_pred))"
   ]
  },
  {
   "cell_type": "code",
   "execution_count": 66,
   "metadata": {},
   "outputs": [
    {
     "data": {
      "application/vnd.jupyter.widget-view+json": {
       "model_id": "a41a0f3e2f8341b98a2bca958a6fd4b5",
       "version_major": 2,
       "version_minor": 0
      },
      "text/plain": [
       "interactive(children=(FloatSlider(value=0.0, description='thresh', max=1.0, step=0.01), Output()), _dom_classe…"
      ]
     },
     "metadata": {},
     "output_type": "display_data"
    }
   ],
   "source": [
    "from ipywidgets import interact\n",
    "# Create a widget to show confusion matrix and the precision and recall scores given a sliding threshold value as an input\n",
    "@interact(thresh=(0, 1, .01))\n",
    "def logit_confusion(thresh):\n",
    "    y_predict = (svm.predict_proba(X_test_cv2)[:, 1] > thresh)\n",
    "    precision = precision_score(y_test, y_predict)\n",
    "    recall = recall_score(y_test, y_predict)\n",
    "    fbeta = (precision*recall)/((1**2*precision+recall)/(1**2+1))\n",
    "    logit_confusion = confusion_matrix(y_test, y_predict)\n",
    "    \n",
    "    plt.figure(dpi=150)\n",
    "    ax = sns.heatmap(logit_confusion, cmap=plt.cm.Purples, annot=True, square=True, fmt='g',\n",
    "           xticklabels=['Believer', 'Denier'],\n",
    "           yticklabels=['Believer', 'Denier'])\n",
    "    bottom, top = ax.get_ylim()\n",
    "    ax.set_ylim(bottom, top)\n",
    "    plt.xlabel('Predicted')\n",
    "    plt.ylabel('Actual')\n",
    "    plt.title('SVM Confusion Matrix');\n",
    "    \n",
    "    return 'Threshold: ' + str(thresh), \"Precision: {:6.4f},   Recall: {:6.4f},    F-beta: {:6.4f}\".format(precision, recall, fbeta)"
   ]
  },
  {
   "cell_type": "markdown",
   "metadata": {},
   "source": [
    "**Optimal Threshold: 0.67\n",
    "Precision: 0.8775\n",
    "Recall: 0.7166\n",
    "F-beta: 0.7889**"
   ]
  },
  {
   "cell_type": "markdown",
   "metadata": {},
   "source": [
    "## Apply Logistic Regression model to entire data set"
   ]
  },
  {
   "cell_type": "markdown",
   "metadata": {},
   "source": [
    "- Logistic Regression was the best model with an F1 score of **0.803**\n",
    "- The optimal threshold was 0.32\n",
    "- It will be applied to the entire dataset"
   ]
  },
  {
   "cell_type": "code",
   "execution_count": 67,
   "metadata": {},
   "outputs": [],
   "source": [
    "X_final_train = classified_df.full_text # all tweets in classified_df\n",
    "y_final_train = classified_df.Believer_or_Denier # all tweets in classified_df"
   ]
  },
  {
   "cell_type": "code",
   "execution_count": 68,
   "metadata": {},
   "outputs": [],
   "source": [
    "X_final_test = tweets_full_df[tweets_full_df['Believer_or_Denier'].isna()].full_text"
   ]
  },
  {
   "cell_type": "code",
   "execution_count": 69,
   "metadata": {},
   "outputs": [],
   "source": [
    "cv_final = CountVectorizer(ngram_range=(1,3), max_df = 0.8, min_df = 3, preprocessor=tweet_preprocessor, tokenizer=tweet_tokenizer, stop_words=new_stop_words)"
   ]
  },
  {
   "cell_type": "code",
   "execution_count": 70,
   "metadata": {},
   "outputs": [],
   "source": [
    "X_final_train_cv = cv.fit_transform(X_final_train)\n",
    "X_final_test_cv  = cv.transform(X_final_test)"
   ]
  },
  {
   "cell_type": "code",
   "execution_count": 71,
   "metadata": {},
   "outputs": [
    {
     "data": {
      "text/plain": [
       "LogisticRegression(C=1, class_weight=None, dual=False, fit_intercept=True,\n",
       "                   intercept_scaling=1, l1_ratio=None, max_iter=1000,\n",
       "                   multi_class='auto', n_jobs=None, penalty='l2',\n",
       "                   random_state=42, solver='lbfgs', tol=0.0001, verbose=0,\n",
       "                   warm_start=False)"
      ]
     },
     "execution_count": 71,
     "metadata": {},
     "output_type": "execute_result"
    }
   ],
   "source": [
    "logit_final = LogisticRegression(max_iter=1000, solver='lbfgs', penalty='l2', C=1, random_state=42)\n",
    "logit_final.fit(X_final_train_cv, y_final_train)\n"
   ]
  },
  {
   "cell_type": "code",
   "execution_count": 72,
   "metadata": {},
   "outputs": [],
   "source": [
    "y_final_predict = logit_final.predict_proba(X_final_test_cv)"
   ]
  },
  {
   "cell_type": "markdown",
   "metadata": {},
   "source": [
    "### Classify tweets using calculated prediction probabilities and optimal threshold"
   ]
  },
  {
   "cell_type": "code",
   "execution_count": 73,
   "metadata": {},
   "outputs": [],
   "source": [
    "believer_denier_preds = []\n",
    "\n",
    "for i in y_final_predict:\n",
    "    if i[1] < 0.32:\n",
    "        believer_denier_preds.append(0)\n",
    "    else:\n",
    "        believer_denier_preds.append(1)"
   ]
  },
  {
   "cell_type": "markdown",
   "metadata": {},
   "source": [
    "### Create final classified dataframe (`tweets_classified_df`)"
   ]
  },
  {
   "cell_type": "code",
   "execution_count": 74,
   "metadata": {},
   "outputs": [
    {
     "name": "stderr",
     "output_type": "stream",
     "text": [
      "/Users/andrewgraves/anaconda3/lib/python3.7/site-packages/ipykernel_launcher.py:2: SettingWithCopyWarning: \n",
      "A value is trying to be set on a copy of a slice from a DataFrame.\n",
      "Try using .loc[row_indexer,col_indexer] = value instead\n",
      "\n",
      "See the caveats in the documentation: http://pandas.pydata.org/pandas-docs/stable/indexing.html#indexing-view-versus-copy\n",
      "  \n"
     ]
    }
   ],
   "source": [
    "tweets_test_df = tweets_full_df[tweets_full_df['Believer_or_Denier'].isna()]\n",
    "tweets_test_df['Believer_or_Denier'] = believer_denier_preds"
   ]
  },
  {
   "cell_type": "code",
   "execution_count": 75,
   "metadata": {},
   "outputs": [],
   "source": [
    "pre_classified_df = tweets_full_df[tweets_full_df['Believer_or_Denier'].notnull()]"
   ]
  },
  {
   "cell_type": "code",
   "execution_count": 76,
   "metadata": {},
   "outputs": [
    {
     "data": {
      "text/plain": [
       "0.0    3806856\n",
       "1.0     418560\n",
       "Name: Believer_or_Denier, dtype: int64"
      ]
     },
     "execution_count": 76,
     "metadata": {},
     "output_type": "execute_result"
    }
   ],
   "source": [
    "tweets_classified_df = tweets_test_df.append(pre_classified_df)\n",
    "tweets_classified_df = tweets_classified_df.sort_values(by='created_at').reset_index(drop=True)\n"
   ]
  },
  {
   "cell_type": "code",
   "execution_count": 79,
   "metadata": {},
   "outputs": [],
   "source": [
    "with open('tweets_classified_logit.pkl', 'wb') as to_write:\n",
    "    pickle.dump(tweets_classified_df, to_write)"
   ]
  },
  {
   "cell_type": "markdown",
   "metadata": {},
   "source": [
    "### Check ratio of believer tweets to denier tweets"
   ]
  },
  {
   "cell_type": "markdown",
   "metadata": {},
   "source": [
    "Is it similar to the ratio in the training set?"
   ]
  },
  {
   "cell_type": "code",
   "execution_count": 77,
   "metadata": {},
   "outputs": [
    {
     "data": {
      "text/plain": [
       "0.0    3806856\n",
       "1.0     418560\n",
       "Name: Believer_or_Denier, dtype: int64"
      ]
     },
     "execution_count": 77,
     "metadata": {},
     "output_type": "execute_result"
    }
   ],
   "source": [
    "tweets_classified_df['Believer_or_Denier'].value_counts()"
   ]
  },
  {
   "cell_type": "code",
   "execution_count": 78,
   "metadata": {},
   "outputs": [
    {
     "data": {
      "text/plain": [
       "0.09905770224754201"
      ]
     },
     "execution_count": 78,
     "metadata": {},
     "output_type": "execute_result"
    }
   ],
   "source": [
    "418560/(418560+3806856)"
   ]
  },
  {
   "cell_type": "markdown",
   "metadata": {},
   "source": [
    "**90% believer tweets, 10% denier tweets**\n",
    "- Similar to ratio in training set"
   ]
  },
  {
   "cell_type": "code",
   "execution_count": null,
   "metadata": {},
   "outputs": [],
   "source": []
  }
 ],
 "metadata": {
  "kernelspec": {
   "display_name": "Python 3",
   "language": "python",
   "name": "python3"
  },
  "language_info": {
   "codemirror_mode": {
    "name": "ipython",
    "version": 3
   },
   "file_extension": ".py",
   "mimetype": "text/x-python",
   "name": "python",
   "nbconvert_exporter": "python",
   "pygments_lexer": "ipython3",
   "version": "3.7.3"
  },
  "toc-autonumbering": true
 },
 "nbformat": 4,
 "nbformat_minor": 4
}
